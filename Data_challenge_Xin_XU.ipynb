{
 "cells": [
  {
   "cell_type": "markdown",
   "metadata": {},
   "source": [
    "# Data Challenge : Introduction to Machine Learning (BGDIA703)"
   ]
  },
  {
   "cell_type": "markdown",
   "metadata": {},
   "source": [
    "### Authors: \n",
    "#### Charlotte Laclau (charlotte.laclau@telecom-paris.fr)"
   ]
  },
  {
   "cell_type": "markdown",
   "metadata": {},
   "source": [
    "This year's challenge is about text classification. \n",
    "For privacy reasons, you are only provided with the embedding learned on the original documents. \n",
    "\n",
    "### Fair document classification\n",
    "\n",
    "The task is straightforward: assign the correct category to a text. This is thus a multi-class classification task with 28 classes to choose from.\n",
    "\n",
    "The most adopted paradigm consists in training a network $f: \\mathcal{X} \\rightarrow \\mathbb{R}^d$ which, from a given document $x \\in \\mathcal{X}$, extracts a feature vector $z \\in \\mathbb{R}^d$ which synthetizes the relevant caracteristics of $doc$. The diagnostic phase then consists, from an document $x$, to predict the label of the document based on the extracted features $z$. In this data challenge $d=768$. \n",
    "\n",
    "We directly provide you the embedding of each text (learned with BERT). \n",
    "\n",
    "The goal of this competition is to design a solution that is both accurate for predicting the label as well as fair with respect to some sensitive attribute (e.g. gender). Fairness in this context means that the model should not be biased toward a certain minority group present in the data. We explain this paradigm further in the evaluation part. "
   ]
  },
  {
   "cell_type": "markdown",
   "metadata": {},
   "source": [
    "### Downloading the Data: \n",
    "\n",
    "You can download the Dataset and evaluator script from the below links: \n",
    "**https://partage.imt.fr/index.php/s/3M3Mn3sN3TNSDEp**\n",
    "\n",
    "**https://partage.imt.fr/index.php/s/CfajSjkAiq2oCLF**\n",
    "\n",
    "After unzipping the file, you have one pickle file named ``data-challenge-student.pickle``.\n",
    "In this file you have one dictionnary that contains the training set `X_train`, the test set `X_test`, the training label `Y_train`, and the information about the sensitive attribute in `S_train` and `S_test`.\n"
   ]
  },
  {
   "cell_type": "markdown",
   "metadata": {},
   "source": [
    "## Introduction\n",
    "\n",
    "Ce Data Challenge peut être divisé en trois étapes, qui seront présentées dans trois paragraphes distincts pour décrire le travail que j'ai effectué : \n",
    "1. [La première étape consiste à tester des modèles.](#section1)\n",
    "2. [La deuxième étape à équilibrer les données et à changer de modèle.](#section2)\n",
    "3. [La troisième étape à chercher les paramètres optimaux du modèle.](#section3)\n",
    "\n",
    "En raison de la limitation de la longueur, je n'ai pas placé tous les tests dans ce notebook. J'ai uniquement présenté des modèles et du code représentatifs pour chaque étape afin de vous faire comprendre le travail que j'ai réalisé dans ce Data Challenge."
   ]
  },
  {
   "cell_type": "markdown",
   "metadata": {},
   "source": [
    "### Baseline"
   ]
  },
  {
   "cell_type": "code",
   "execution_count": 1,
   "metadata": {},
   "outputs": [],
   "source": [
    "import pickle\n",
    "import pandas as pd\n",
    "from sklearn.linear_model import LogisticRegression\n",
    "from sklearn.model_selection import train_test_split\n",
    "from evaluator import *\n",
    "\n",
    "with open('data-challenge-student.pickle', 'rb') as handle:\n",
    "    # dat = pickle.load(handle)\n",
    "    dat = pd.read_pickle(handle)\n",
    "    \n",
    "X = dat['X_train']\n",
    "Y = dat['Y']\n",
    "S = dat['S_train']"
   ]
  },
  {
   "cell_type": "code",
   "execution_count": 1,
   "metadata": {},
   "outputs": [
    {
     "name": "stdout",
     "output_type": "stream",
     "text": [
      "0.7375960362513924\n"
     ]
    }
   ],
   "source": [
    "\n",
    "X_train, X_test, Y_train, Y_test, S_train, S_test = train_test_split(X, Y, S, test_size=0.3, random_state=42)\n",
    "clf = LogisticRegression(random_state=0, max_iter=5000).fit(X_train, Y_train)\n",
    "\n",
    "Y_pred = clf.predict(X_test)\n",
    "eval_scores, confusion_matrices_eval = gap_eval_scores(Y_pred, Y_test, S_test, metrics=['TPR'])\n",
    "\n",
    "final_score = (eval_scores['macro_fscore']+ (1-eval_scores['TPR_GAP']))/2\n",
    "print(final_score)"
   ]
  },
  {
   "cell_type": "markdown",
   "metadata": {},
   "source": [
    "<a id=\"section1\"></a>\n",
    "## I.Première tentative : changement de modèle\n"
   ]
  },
  {
   "cell_type": "markdown",
   "metadata": {},
   "source": [
    "### 1.Baseline+standardscaler"
   ]
  },
  {
   "cell_type": "code",
   "execution_count": 3,
   "metadata": {},
   "outputs": [
    {
     "name": "stdout",
     "output_type": "stream",
     "text": [
      "0.7145025818023536\n"
     ]
    }
   ],
   "source": [
    "from sklearn.preprocessing import StandardScaler\n",
    "\n",
    "X_train, X_test, Y_train, Y_test, S_train, S_test = train_test_split(X, Y, S, test_size=0.3, random_state=42)\n",
    "\n",
    "scaler = StandardScaler()\n",
    "X_train_scaled = scaler.fit_transform(X_train)\n",
    "X_test_scaled = scaler.transform(X_test)\n",
    "\n",
    "clf = LogisticRegression(random_state=0, max_iter=5000,class_weight='balanced').fit(X_train_scaled, Y_train)\n",
    "Y_pred = clf.predict(X_test_scaled)\n",
    "\n",
    "eval_scores, confusion_matrices_eval = gap_eval_scores(Y_pred, Y_test, S_test, metrics=['TPR'])\n",
    "final_score = (eval_scores['macro_fscore']+ (1-eval_scores['TPR_GAP']))/2\n",
    "\n",
    "print(final_score)"
   ]
  },
  {
   "cell_type": "markdown",
   "metadata": {},
   "source": [
    "#### 1.1 Baseline + MinMaxScaler"
   ]
  },
  {
   "cell_type": "code",
   "execution_count": 4,
   "metadata": {},
   "outputs": [
    {
     "name": "stdout",
     "output_type": "stream",
     "text": [
      "0.7326827914899361\n"
     ]
    }
   ],
   "source": [
    "from sklearn.preprocessing import MinMaxScaler\n",
    "X_train, X_test, Y_train, Y_test, S_train, S_test = train_test_split(X, Y, S, test_size=0.3, random_state=42)\n",
    "\n",
    "scaler = MinMaxScaler(feature_range=(-1, 1))\n",
    "X_train_scaled = scaler.fit_transform(X_train)\n",
    "X_test_scaled = scaler.transform(X_test)\n",
    "\n",
    "clf = LogisticRegression(random_state=0, max_iter=5000).fit(X_train_scaled, Y_train)\n",
    "Y_pred = clf.predict(X_test_scaled)\n",
    "\n",
    "eval_scores, confusion_matrices_eval = gap_eval_scores(Y_pred, Y_test, S_test, metrics=['TPR'])\n",
    "final_score = (eval_scores['macro_fscore']+ (1-eval_scores['TPR_GAP']))/2\n",
    "\n",
    "print(final_score)"
   ]
  },
  {
   "cell_type": "markdown",
   "metadata": {},
   "source": [
    "<div class='alert alert-block alert-info'>Commentaire:\n",
    "\n",
    "J'ai essayé de mettre à l'échelle les données, mais les résultats étaient inférieurs à ceux de la baseline. Cela montre que la mise à l'échelle des données ne permet pas d'amplifier les caractéristiques, mais au contraire, elle peut éliminer les caractéristiques nécessaires.\n",
    "</div>"
   ]
  },
  {
   "cell_type": "markdown",
   "metadata": {},
   "source": [
    "### 2.DecisionTreeClassifier"
   ]
  },
  {
   "cell_type": "code",
   "execution_count": 5,
   "metadata": {},
   "outputs": [
    {
     "name": "stdout",
     "output_type": "stream",
     "text": [
      "0.5597217358601747\n"
     ]
    }
   ],
   "source": [
    "from sklearn.tree import DecisionTreeClassifier\n",
    "\n",
    "X_train, X_test, Y_train, Y_test, S_train, S_test = train_test_split(X, Y, S, test_size=0.3, random_state=42)\n",
    "\n",
    "dt_clf = DecisionTreeClassifier()\n",
    "dt_clf.fit(X_train,Y_train)\n",
    "\n",
    "Y_pred = dt_clf.predict(X_test)\n",
    "\n",
    "eval_scores, confusion_matrices_eval = gap_eval_scores(Y_pred, Y_test, S_test, metrics=['TPR'])\n",
    "final_score = (eval_scores['macro_fscore']+ (1-eval_scores['TPR_GAP']))/2\n",
    "\n",
    "print(final_score)"
   ]
  },
  {
   "cell_type": "markdown",
   "metadata": {},
   "source": [
    "### 3.RandomForestClassifier"
   ]
  },
  {
   "cell_type": "code",
   "execution_count": 6,
   "metadata": {},
   "outputs": [
    {
     "name": "stdout",
     "output_type": "stream",
     "text": [
      "0.5956814342866652\n"
     ]
    }
   ],
   "source": [
    "from sklearn.ensemble import RandomForestClassifier\n",
    "\n",
    "X_train, X_test, Y_train, Y_test, S_train, S_test = train_test_split(X, Y, S, test_size=0.3, random_state=42)\n",
    "\n",
    "rf_clf = RandomForestClassifier(n_estimators=100) \n",
    "\n",
    "rf_clf.fit(X_train, Y_train)\n",
    "Y_pred = rf_clf.predict(X_test)\n",
    "\n",
    "eval_scores, confusion_matrices_eval = gap_eval_scores(Y_pred, Y_test, S_test, metrics=['TPR'])\n",
    "final_score = (eval_scores['macro_fscore']+ (1-eval_scores['TPR_GAP']))/2\n",
    "\n",
    "print(final_score)"
   ]
  },
  {
   "cell_type": "markdown",
   "metadata": {},
   "source": [
    "### 4.XGBoost"
   ]
  },
  {
   "cell_type": "code",
   "execution_count": 7,
   "metadata": {},
   "outputs": [
    {
     "name": "stderr",
     "output_type": "stream",
     "text": [
      "/home/infres/xxu-23/anaconda3/envs/tf/lib/python3.10/site-packages/xgboost/sklearn.py:1395: UserWarning: `use_label_encoder` is deprecated in 1.7.0.\n",
      "  warnings.warn(\"`use_label_encoder` is deprecated in 1.7.0.\")\n",
      "/home/infres/xxu-23/anaconda3/envs/tf/lib/python3.10/site-packages/xgboost/sklearn.py:835: UserWarning: `early_stopping_rounds` in `fit` method is deprecated for better compatibility with scikit-learn, use `early_stopping_rounds` in constructor or`set_params` instead.\n",
      "  warnings.warn(\n"
     ]
    },
    {
     "name": "stdout",
     "output_type": "stream",
     "text": [
      "0.6574438916002425\n"
     ]
    }
   ],
   "source": [
    "import xgboost as xgb\n",
    "X_train, X_test, Y_train, Y_test, S_train, S_test = train_test_split(X, Y, S, test_size=0.3, random_state=42)\n",
    "\n",
    "xgb_clf = xgb.XGBClassifier(\n",
    "    n_estimators=100,\n",
    "    learning_rate=0.05,\n",
    "    max_depth=4,\n",
    "    subsample=0.8,\n",
    "    colsample_bytree=0.8,\n",
    "    gamma=0,\n",
    "    min_child_weight=1,\n",
    "    use_label_encoder=False,\n",
    "    eval_metric='mlogloss',  # 用于多分类\n",
    "    objective='multi:softprob',  # 多分类的目标\n",
    "    num_class=28,  # 类别总数\n",
    "    verbosity=0\n",
    ")\n",
    "\n",
    "\n",
    "xgb_clf.fit(X_train, Y_train, early_stopping_rounds=10, eval_set=[(X_test, Y_test)], verbose=False)\n",
    "\n",
    "Y_pred = xgb_clf.predict(X_test)\n",
    "\n",
    "eval_scores, confusion_matrices_eval = gap_eval_scores(Y_pred, Y_test, S_test, metrics=['TPR'])\n",
    "final_score = (eval_scores['macro_fscore']+ (1-eval_scores['TPR_GAP']))/2\n",
    "\n",
    "print(final_score)"
   ]
  },
  {
   "cell_type": "markdown",
   "metadata": {},
   "source": [
    "### 5.SVM"
   ]
  },
  {
   "cell_type": "code",
   "execution_count": 8,
   "metadata": {},
   "outputs": [
    {
     "name": "stdout",
     "output_type": "stream",
     "text": [
      "0.7054093884407573\n"
     ]
    }
   ],
   "source": [
    "from sklearn.svm import SVC\n",
    "X_train, X_test, Y_train, Y_test, S_train, S_test = train_test_split(X, Y, S, test_size=0.3, random_state=42)\n",
    "svm = SVC()\n",
    "svm.fit(X_train, Y_train)\n",
    "Y_pred = svm.predict(X_test)\n",
    "eval_scores, confusion_matrices_eval = gap_eval_scores(Y_pred, Y_test, S_test, metrics=['TPR'])\n",
    "final_score = (eval_scores['macro_fscore']+ (1-eval_scores['TPR_GAP']))/2\n",
    "\n",
    "print(final_score)"
   ]
  },
  {
   "cell_type": "markdown",
   "metadata": {},
   "source": [
    "<div class='alert alert-block alert-info'>Commentaire:\n",
    "\n",
    "Sur la base de l'essai mentionné précédemment, il se pourrait qu'il existe des paramètres pour le modèle SVM qui soient supérieurs à ceux de la baseline et qui nécessitent des explorations supplémentaires.\n",
    "</div>"
   ]
  },
  {
   "cell_type": "code",
   "execution_count": null,
   "metadata": {},
   "outputs": [],
   "source": [
    "from sklearn.model_selection import train_test_split, RandomizedSearchCV\n",
    "from sklearn.svm import SVC\n",
    "\n",
    "\n",
    "X_train, X_test, Y_train, Y_test, S_train, S_test = train_test_split(X, Y, S, test_size=0.3, random_state=42)\n",
    "\n",
    "svc_parameters = {\n",
    "    'C': np.logspace(-4, 4, 10),  # Wider range of C\n",
    "    'kernel': ['linear', 'poly', 'rbf', 'sigmoid'],  # Exploring more kernel types\n",
    "    'gamma': np.logspace(-4, 4, 10),  # Wider range of gamma\n",
    "    'class_weight': [None, 'balanced']  # Adding class_weight to handle imbalanced classes\n",
    "}\n",
    "\n",
    "clf = RandomizedSearchCV(SVC(random_state=0), svc_parameters, n_iter=10, cv=5, random_state=42, n_jobs=-1)\n",
    "\n",
    "\n",
    "clf.fit(X_train, Y_train)\n",
    "\n",
    "\n",
    "best_model = clf.best_estimator_\n",
    "Y_pred = best_model.predict(X_test)\n",
    "\n",
    "eval_scores, confusion_matrices_eval = gap_eval_scores(Y_pred, Y_test, S_test, metrics=['TPR'])\n",
    "final_score = (eval_scores['macro_fscore'] + (1 - eval_scores['TPR_GAP'])) / 2\n",
    "\n",
    "print(f\"Best Parameters are {best_model}\")\n",
    "print(f\"Final Score: {final_score}\")\n",
    "print(f\"Total Runtime: {total_time} seconds\")"
   ]
  },
  {
   "cell_type": "markdown",
   "metadata": {},
   "source": [
    "Étant donné que les données sont volumineuses, la recherche de paramètres prend beaucoup de temps. Par conséquent, j'ai décidé de lancer ce code sur le cluster de l'école.\n",
    "\n",
    "Best Parameters are SVC(C=21.54434690031882, gamma=0.005994842503189409, random_state=0)  \n",
    "Final Score: 0.743105086064241  \n",
    "Total Runtime: 8468.553272724152 seconds"
   ]
  },
  {
   "cell_type": "markdown",
   "metadata": {},
   "source": [
    "<div class='alert alert-block alert-info'>Commentaire:\n",
    "\n",
    "Les résultats finaux obtenus ne diffèrent pas beaucoup de ceux de la baseline, il est donc nécessaire de traiter les données ou d'essayer un autre modèle.\n",
    "</div>"
   ]
  },
  {
   "cell_type": "markdown",
   "metadata": {},
   "source": [
    "<a id=\"section2\"></a>\n",
    "\n",
    "## II. Deuxième tentative: traitement des données et remplacement du modèle"
   ]
  },
  {
   "cell_type": "code",
   "execution_count": 4,
   "metadata": {},
   "outputs": [
    {
     "data": {
      "image/png": "[encoded data removed]",
      "text/plain": [
       "<Figure size 2000x600 with 2 Axes>"
      ]
     },
     "metadata": {},
     "output_type": "display_data"
    }
   ],
   "source": [
    "import matplotlib.pyplot as plt\n",
    "import pandas as pd\n",
    "\n",
    "def display_combined(data, gender_data):\n",
    "    # compte du nombre de label\n",
    "    counts = pd.DataFrame(data.value_counts())\n",
    "    counts_df = counts.reset_index()\n",
    "    counts_df.columns = ['profession_class', 'counts']\n",
    "\n",
    "    # Creation de DataFrame\n",
    "    df = pd.DataFrame({'profession_class': data, 'gender': gender_data})\n",
    "    profession_order = df['profession_class'].value_counts().index\n",
    "    gender_distribution = df.groupby('profession_class')['gender'].value_counts().unstack().fillna(0)\n",
    "    gender_distribution = gender_distribution.reindex(profession_order)\n",
    "\n",
    "    plt.figure(figsize=(20, 6))\n",
    "\n",
    "    # Visualisation de Y\n",
    "    plt.subplot(1, 2, 1)  \n",
    "    plt.plot(counts_df.index, counts_df['counts'], marker='o')\n",
    "    plt.xticks(counts_df.index, counts_df['profession_class'], rotation=45)\n",
    "    plt.xlabel('Profession Class')\n",
    "    plt.ylabel('Counts')\n",
    "    plt.title('Counts by Profession Class')\n",
    "    plt.grid(True)\n",
    "\n",
    "    # Visualisation de genre\n",
    "    plt.subplot(1, 2, 2)  \n",
    "    gender_distribution.plot(kind='bar', stacked=True, ax=plt.gca())\n",
    "    plt.xticks(rotation=45)\n",
    "    plt.xlabel('Profession Class')\n",
    "    plt.ylabel('Counts')\n",
    "    plt.title('Gender Distribution by Profession Class')\n",
    "    plt.legend(title='Gender')\n",
    "\n",
    "    plt.tight_layout()\n",
    "    plt.show()\n",
    "\n",
    "display_combined(Y, S)\n"
   ]
  },
  {
   "cell_type": "markdown",
   "metadata": {},
   "source": [
    "<div class='alert alert-block alert-info'>Commentaire:  \n",
    "\n",
    "Les données présentent une distribution en longue queue et le genre au sein de chaque catégorie est également déséquilibré, il est donc nécessaire d'équilibrer les données.\n",
    "</div>"
   ]
  },
  {
   "cell_type": "markdown",
   "metadata": {},
   "source": [
    "Après avoir essayé, équilibrer les données en fonction du genre donne de meilleurs résultats que d'équilibrer à la fois les catégories et le genre. Voici le code :"
   ]
  },
  {
   "cell_type": "code",
   "execution_count": 5,
   "metadata": {},
   "outputs": [],
   "source": [
    "from sklearn.utils import resample\n",
    "def resampling_gender(X_train,Y_train,S_train):\n",
    "    data = pd.concat([X_train, Y_train, S_train], axis=1)\n",
    "\n",
    "    data.columns = list(X_train.columns) + ['label', 'gender_class']\n",
    "\n",
    "    balanced_data = pd.DataFrame()\n",
    "\n",
    "    for label in data['label'].unique():\n",
    "        subset = data[data['label'] == label]\n",
    "        \n",
    "        target_size = max(subset['gender_class'].value_counts().max(), subset['gender_class'].value_counts().min())\n",
    "        \n",
    "        for gender in subset['gender_class'].unique():\n",
    "            gender_subset = subset[subset['gender_class'] == gender]\n",
    "            \n",
    "            gender_subset_upsampled = resample(gender_subset, \n",
    "                                            replace=True,     # avec remplacement\n",
    "                                            n_samples=target_size, \n",
    "                                            random_state=123)\n",
    "            balanced_data = pd.concat([balanced_data, gender_subset_upsampled])\n",
    "            balanced_data = balanced_data.reset_index(drop=True)\n",
    "\n",
    "    y_sortie = balanced_data['label']\n",
    "    s_sortie = balanced_data['gender_class']\n",
    "    x_new = balanced_data.iloc[:, :-2]\n",
    "\n",
    "    return x_new,y_sortie,s_sortie"
   ]
  },
  {
   "cell_type": "code",
   "execution_count": 6,
   "metadata": {},
   "outputs": [
    {
     "data": {
      "image/png": "[encoded data removed]",
      "text/plain": [
       "<Figure size 2000x600 with 2 Axes>"
      ]
     },
     "metadata": {},
     "output_type": "display_data"
    }
   ],
   "source": [
    "x_new,y_new ,s_new = resampling_gender(X,Y,S)\n",
    "display_combined(y_new, s_new)"
   ]
  },
  {
   "cell_type": "code",
   "execution_count": 17,
   "metadata": {},
   "outputs": [
    {
     "name": "stdout",
     "output_type": "stream",
     "text": [
      "0.864209099506087\n"
     ]
    }
   ],
   "source": [
    "X_train, X_test, Y_train, Y_test, S_train, S_test = train_test_split(x_new, y_new, s_new, test_size=0.3, random_state=42)\n",
    "\n",
    "svc = SVC(kernel='rbf', gamma=0.006, C=21.5, random_state=42)\n",
    "svc.fit(X_train, Y_train)\n",
    "\n",
    "Y_pred = svc.predict(X_test)\n",
    "eval_scores, confusion_matrices_eval = gap_eval_scores(Y_pred, Y_test, S_test, metrics=['TPR'])\n",
    "final_score = (eval_scores['macro_fscore']+ (1-eval_scores['TPR_GAP']))/2\n",
    "print(final_score)"
   ]
  },
  {
   "cell_type": "markdown",
   "metadata": {},
   "source": [
    "<div class='alert alert-block alert-info'>Commentaire:\n",
    "\n",
    "Après avoir équilibré les données, les résultats ont été optimisés sous le même modèle, mais les scores soumis sur le site web sont inférieurs à ceux obtenus lors de l'entraînement sur l'ordinateur, ce qui est une manifestation de surajustement. En raison du temps, ce problème n'a pas été résolu dans ce défi, mais plutôt en testant constamment des modèles et en cherchant des hyperparamètres plus appropriés. De plus, l'entraînement sur l'ensemble des données équilibrées donne de meilleurs résultats.\n",
    "</div>"
   ]
  },
  {
   "cell_type": "markdown",
   "metadata": {},
   "source": [
    "### 2.1 Utiliser réseau de neurones entièrement connecté (FNN) comme modèle."
   ]
  },
  {
   "cell_type": "code",
   "execution_count": 18,
   "metadata": {},
   "outputs": [
    {
     "name": "stderr",
     "output_type": "stream",
     "text": [
      "2024-03-19 16:26:20.621155: I tensorflow/core/platform/cpu_feature_guard.cc:193] This TensorFlow binary is optimized with oneAPI Deep Neural Network Library (oneDNN) to use the following CPU instructions in performance-critical operations:  AVX2 AVX512F FMA\n",
      "To enable them in other operations, rebuild TensorFlow with the appropriate compiler flags.\n",
      "2024-03-19 16:26:29.524169: W tensorflow/compiler/xla/stream_executor/platform/default/dso_loader.cc:64] Could not load dynamic library 'libnvinfer.so.7'; dlerror: libnvinfer.so.7: cannot open shared object file: No such file or directory; LD_LIBRARY_PATH: /usr/local/cuda-11.2/lib64:\n",
      "2024-03-19 16:26:29.525172: W tensorflow/compiler/xla/stream_executor/platform/default/dso_loader.cc:64] Could not load dynamic library 'libnvinfer_plugin.so.7'; dlerror: libnvinfer_plugin.so.7: cannot open shared object file: No such file or directory; LD_LIBRARY_PATH: /usr/local/cuda-11.2/lib64:\n",
      "2024-03-19 16:26:29.525196: W tensorflow/compiler/tf2tensorrt/utils/py_utils.cc:38] TF-TRT Warning: Cannot dlopen some TensorRT libraries. If you would like to use Nvidia GPU with TensorRT, please make sure the missing libraries mentioned above are installed properly.\n"
     ]
    }
   ],
   "source": [
    "import tensorflow as tf\n",
    "from tensorflow.keras.models import Sequential\n",
    "from tensorflow.keras.layers import Dense, Dropout, Layer,BatchNormalization\n",
    "from tensorflow.keras.callbacks import EarlyStopping,ModelCheckpoint\n",
    "from sklearn.model_selection import StratifiedKFold"
   ]
  },
  {
   "cell_type": "markdown",
   "metadata": {},
   "source": [
    "Comme les données fournies sont des vecteurs de caractéristiques traités par BERT, elles devraient pouvoir être entraînées via un réseau de neurones.  \n",
    "\n",
    "Voici la première fonction que j'ai construite, elle comporte trois couches, les trois premières utilisent la même fonction d'activation (Sigmoid), les deux premières couches utilisent les mêmes fonctions (BatchNormalization, Dropout) pour prévenir le surajustement. La dernière couche est la couche de sortie, avec 28 nœuds, représentant les catégories de Y."
   ]
  },
  {
   "cell_type": "code",
   "execution_count": 19,
   "metadata": {},
   "outputs": [],
   "source": [
    "## build model#1\n",
    "## 1) 5 split,30 epoch, num_model_b :1(0th), score:0.766,num_csv:10\n",
    "def build_model_1():\n",
    "    model = Sequential()\n",
    "    model.add(Dense(512,input_shape=(768,),activation = 'sigmoid'))\n",
    "    model.add(BatchNormalization())\n",
    "    model.add(Dropout(0.5))\n",
    "    # model.add(AttentionLayer())\n",
    "    model.add(Dense(256, activation='sigmoid'))\n",
    "    model.add(BatchNormalization())\n",
    "    model.add(Dropout(0.5))\n",
    "    model.add(Dense(28, activation='sigmoid'))\n",
    "        \n",
    "    model.compile(optimizer='adam',\n",
    "                  loss='categorical_crossentropy',\n",
    "                  metrics=['accuracy'])\n",
    "    return model"
   ]
  },
  {
   "cell_type": "code",
   "execution_count": 20,
   "metadata": {},
   "outputs": [],
   "source": [
    "from tensorflow.keras.utils import to_categorical\n",
    "from tensorflow.keras import backend as K\n",
    "\n",
    "K.clear_session()"
   ]
  },
  {
   "cell_type": "code",
   "execution_count": 21,
   "metadata": {},
   "outputs": [],
   "source": [
    "checkpoint_filepath = '/home/infres/xxu-23/data/model_store'\n",
    "model_checkpoint_callback = ModelCheckpoint(\n",
    "    filepath=checkpoint_filepath,\n",
    "    save_weights_only=True,\n",
    "    monitor='val_accuracy',\n",
    "    mode='max',\n",
    "    save_best_only=True)"
   ]
  },
  {
   "cell_type": "code",
   "execution_count": 22,
   "metadata": {},
   "outputs": [],
   "source": [
    "x_new,y_new,s_new = resampling_gender(X,Y,S)"
   ]
  },
  {
   "cell_type": "code",
   "execution_count": 24,
   "metadata": {},
   "outputs": [
    {
     "name": "stdout",
     "output_type": "stream",
     "text": [
      "---------------------------------------\n",
      "the 1th train\n",
      "---------------------------------------\n",
      "val_accuracy: 0.8949719071388245\n",
      "---------------------------------------\n",
      "the 2th train\n",
      "---------------------------------------\n",
      "val_accuracy: 0.8916582465171814\n",
      "---------------------------------------\n",
      "the 3th train\n",
      "---------------------------------------\n",
      "val_accuracy: 0.894107460975647\n",
      "---------------------------------------\n",
      "the 4th train\n",
      "---------------------------------------\n",
      "val_accuracy: 0.894107460975647\n",
      "---------------------------------------\n",
      "the 5th train\n",
      "---------------------------------------\n",
      "val_accuracy: 0.889769434928894\n",
      "Best Validation Accuracy: 0.8949719071388245\n",
      "Best Model Weights Saved to: /home/infres/xxu-23/data/model_store/checkpoint_fold_1.h5\n"
     ]
    }
   ],
   "source": [
    "n_splits = 5\n",
    "skf = StratifiedKFold(n_splits=n_splits, shuffle=True)\n",
    "X_1 = x_new.values\n",
    "Y_1 = y_new.values\n",
    "best_val_accuracy = 0.0  \n",
    "best_model_weights_path = None  \n",
    "# Y_1 = to_categorical(Y_1, num_classes=28)\n",
    "for i, (train_index, test_index) in enumerate(skf.split(X_1, Y_1)):\n",
    "    print('---------------------------------------')\n",
    "    print(f'the {i+1}th train')\n",
    "    print('---------------------------------------')\n",
    "    model = build_model_1()\n",
    "    \n",
    "    X_train, Y_train = X_1[train_index], Y_1[train_index]\n",
    "    X_test, Y_test = X_1[test_index], Y_1[test_index]\n",
    "    Y_train_categorical = to_categorical(Y_train, num_classes=28)\n",
    "    Y_test_categorical = to_categorical(Y_test, num_classes=28)\n",
    "\n",
    "    early_stopping = EarlyStopping(monitor='loss', patience=3, verbose=1, mode='min',min_delta=1e-4)\n",
    "    history = model.fit(X_train, Y_train_categorical, epochs=30, batch_size=32, \n",
    "                        validation_data=(X_test, Y_test_categorical), callbacks=[early_stopping],verbose = 0)\n",
    "\n",
    "\n",
    "    val_accuracy = max(history.history['val_accuracy'])\n",
    "    print('val_accuracy:',val_accuracy)\n",
    "    if val_accuracy > best_val_accuracy:\n",
    "        best_val_accuracy = val_accuracy\n",
    "        best_model_weights_path = f'/home/infres/xxu-23/data/model_store/checkpoint_fold_{i+1}.h5'\n",
    "        model.save_weights(best_model_weights_path)\n",
    "\n",
    "print(f'Best Validation Accuracy: {best_val_accuracy}')\n",
    "print(f'Best Model Weights Saved to: {best_model_weights_path}')\n"
   ]
  },
  {
   "cell_type": "markdown",
   "metadata": {},
   "source": [
    "<div class='alert alert-block alert-info'>Commentaire:  \n",
    "\n",
    "Le code mentionné utilise StratifiedKFold pour l'entraînement du modèle, avec un total de 5 entraînements, chacun comprenant 30 epochs. Finalement, le résultat obtenu sur le site est de 0.766. Cela montre que le modèle de réseau de neurones dispose d'un grand espace d'exploration.\n",
    "</div>"
   ]
  },
  {
   "cell_type": "markdown",
   "metadata": {},
   "source": [
    "Ensuite, j'ai ajusté les paramètres de la fonction et obtenu des résultats différents. Voici les ajustements de la fonction :"
   ]
  },
  {
   "cell_type": "code",
   "execution_count": null,
   "metadata": {},
   "outputs": [],
   "source": [
    "def build_model_2():\n",
    "    model = Sequential()\n",
    "    model.add(Dense(512,input_shape=(768,),activation = 'elu'))\n",
    "    model.add(BatchNormalization())\n",
    "    model.add(Dropout(0.4))\n",
    "    \n",
    "    model.add(Dense(256, activation='elu'))\n",
    "    model.add(BatchNormalization())\n",
    "    model.add(Dropout(0.4))\n",
    "    \n",
    "    # model.add(AttentionLayer())\n",
    "    model.add(Dense(256, activation='elu'))\n",
    "    model.add(BatchNormalization())\n",
    "    model.add(Dropout(0.4))\n",
    "    \n",
    "    model.add(Dense(28, activation='softmax'))\n",
    "        \n",
    "    model.compile(optimizer='SGD',\n",
    "                  loss='categorical_crossentropy',\n",
    "                  metrics=['accuracy'])\n",
    "    return model"
   ]
  },
  {
   "cell_type": "markdown",
   "metadata": {},
   "source": [
    "Les paramètres configurés suivants:\n",
    "\n",
    "| Numero | Nb_split | Nb_epochs | Optimiser | Nb_droupout | Score |\n",
    "|:-----:|:-----:|:-----:|:-----:|:-----:|:-----:|\n",
    "| 1 | 5 | 30 | 'SGD' | 0.5 | 0.7708 |\n",
    "| 2 | 8 | 40 | 'SGD' | 0.5 | 0.774 |\n",
    "| 3 | 5 | 50 | 'SGD' | 0.5 | 0.765 |\n",
    "| 4 | 5 | 30 | 'RMSprop' | 0.5 | - |\n",
    "| 5 | 5 | 30 | 'Adamax' | 0.5 | 0.756 |\n",
    "| 6 | 5 | 30 | 'Nadam' | 0.5 | 0.756 |\n",
    "| 7 | 5 | 30 | 'SGD' | 0.2 | 0.754 |\n",
    "| 8 | 5 | 30 | 'SGD' | 0.4 | 0.777 |\n",
    "| 9 | 5 | 30 | 'SGD' | 0.45 | 0.773 |\n",
    "| 10 | 5 | 30 | 'SGD' | 0.4 , 0.5 | 0.776 |\n",
    "| 11 | 5 | 40 | 'SGD' | 0.4 , 0.45 | 0.768 |\n",
    "| 12 | 5 | 40 | 'SGD' | 0.4 | 0.673 |\n",
    "\n",
    "\n"
   ]
  },
  {
   "cell_type": "markdown",
   "metadata": {},
   "source": [
    "<div class='alert alert-block alert-info'>Commentaire:\n",
    "\n",
    "En résumé, le modèle obtient les meilleurs résultats avec les paramètres 'SGD' et 'Dropout = 0.4'.\n",
    "\n",
    "Il est possible que il ait atteint la limite maximale des capacités du modèle. De plus, chaque session d'entraînement nécessite plus de 10 minutes, donc il faut envisager d'essayer un nouveau modèle ou d'autres ajustements.\n",
    "</div>"
   ]
  },
  {
   "cell_type": "markdown",
   "metadata": {},
   "source": [
    "<a id=\"section3\"></a>\n",
    "\n",
    "## III. Troisième tentative : la modélisation de la régression"
   ]
  },
  {
   "cell_type": "markdown",
   "metadata": {},
   "source": [
    "Pour cette partie, j'ai discuté avec Youssef et Yassine. Nous avons trouvé que la fonction de régression atteignait un score de **0.78** avec les paramètres suivants : (solver='newton-cg', C=0.1, tol=1e-5, max_iter=7000), et il était nécessaire d'inclure le genre S comme une caractéristique dans l'entraînement. Ainsi, nous avons exploré les paramètres."
   ]
  },
  {
   "cell_type": "code",
   "execution_count": 5,
   "metadata": {},
   "outputs": [
    {
     "name": "stdout",
     "output_type": "stream",
     "text": [
      "0.80674822683069\n"
     ]
    }
   ],
   "source": [
    "x_new,y_new ,s_new = resampling_gender(X,Y,S)\n",
    "X_train, X_test, Y_train, Y_test, S_train, S_test = train_test_split(x_new,y_new,s_new, test_size=0.3, random_state=42)\n",
    "X_train_new = pd.concat([X_train,S_train],axis=1)\n",
    "X_train_new.columns = X_train_new.columns.astype(str)\n",
    "model_cf = LogisticRegression(random_state=42, solver='newton-cg', C=0.1, tol=1e-5, max_iter=7000)\n",
    "\n",
    "model_cf.fit(X_train_new, Y_train)\n",
    "X_test_new = pd.concat([X_test,S_test],axis=1)\n",
    "X_test_new.columns = X_test_new.columns.astype(str)\n",
    "\n",
    "Y_pred = model_cf.predict(X_test_new)\n",
    "\n",
    "eval_scores, confusion_matrices_eval = gap_eval_scores(Y_pred, Y_test, S_test, metrics=['TPR'])\n",
    "final_score = (eval_scores['macro_fscore']+ (1-eval_scores['TPR_GAP']))/2\n",
    "print(final_score)\n"
   ]
  },
  {
   "cell_type": "markdown",
   "metadata": {},
   "source": [
    "Après avoir effectué des tests, il s'est avéré que les résultats obtenus en entraînant le modèle sur l'ensemble des données étaient meilleurs que ceux obtenus en divisant les données en ensembles d'entraînement et de test. Voici les différents résultats de mes tests:"
   ]
  },
  {
   "cell_type": "markdown",
   "metadata": {},
   "source": [
    "Les paramètres configurés suivants:\n",
    "\n",
    "| Numero | C | Score |\n",
    "|:-----:|:-----:|:-----:|\n",
    "| 1 | 0.09 | 0.784 |\n",
    "| 2 | 0.085 | 0.781 | \n",
    "| 3 | 0.08 | 0.778 |\n",
    "| 4 | 0.05 | 0.781 |\n",
    "| 5 | 0.06 | 0.782 |\n",
    "| 6 | 0.058 | 0.782 |\n",
    "| 7 | 0.03 | 0.783 |\n",
    "| 8 | 0.035 | 0.783 |\n",
    "| 9 | 0.02 | 0.780 |\n",
    "| 10 | 0.025 | 0.779 |\n",
    "| 11 | 0.063 | 0.784 |\n",
    "| 12 | 0.062 | 0.7879 |\n",
    "| 13 | 0.0615 | 0.7879 |\n"
   ]
  },
  {
   "cell_type": "markdown",
   "metadata": {},
   "source": [
    "<div class='alert alert-block alert-info'>Commentaire:\n",
    "\n",
    "D'après les tests mentionnés ci-dessus, on peut voir que le modèle présente une solution optimale locale près des valeurs de C à 0.3, 0.6, 0.9, mais atteint l'optimum à la valeur de 0.62.\n",
    "</div>"
   ]
  },
  {
   "cell_type": "markdown",
   "metadata": {},
   "source": [
    "#### 3.1 Classification étape par étape"
   ]
  },
  {
   "cell_type": "markdown",
   "metadata": {},
   "source": [
    "Comme les données présentent une distribution en 'Long tail', il existe un risque de surajustement pour les catégories les plus nombreuses. L'approche de ce modèle est de d'abord séparer les catégories les plus nombreuses des autres catégories moins nombreuses, puis de classer ces dernières. Le score final peut atteindre 0.77."
   ]
  },
  {
   "cell_type": "code",
   "execution_count": 2,
   "metadata": {},
   "outputs": [],
   "source": [
    "from sklearn.ensemble import RandomForestClassifier"
   ]
  },
  {
   "cell_type": "code",
   "execution_count": 7,
   "metadata": {},
   "outputs": [
    {
     "name": "stdout",
     "output_type": "stream",
     "text": [
      "['smallclass' 'smallclass' 'smallclass' ... 'smallclass' 'smallclass'\n",
      " 'smallclass']\n"
     ]
    },
    {
     "data": {
      "text/html": [
       "<style>#sk-container-id-1 {color: black;}#sk-container-id-1 pre{padding: 0;}#sk-container-id-1 div.sk-toggleable {background-color: white;}#sk-container-id-1 label.sk-toggleable__label {cursor: pointer;display: block;width: 100%;margin-bottom: 0;padding: 0.3em;box-sizing: border-box;text-align: center;}#sk-container-id-1 label.sk-toggleable__label-arrow:before {content: \"▸\";float: left;margin-right: 0.25em;color: #696969;}#sk-container-id-1 label.sk-toggleable__label-arrow:hover:before {color: black;}#sk-container-id-1 div.sk-estimator:hover label.sk-toggleable__label-arrow:before {color: black;}#sk-container-id-1 div.sk-toggleable__content {max-height: 0;max-width: 0;overflow: hidden;text-align: left;background-color: #f0f8ff;}#sk-container-id-1 div.sk-toggleable__content pre {margin: 0.2em;color: black;border-radius: 0.25em;background-color: #f0f8ff;}#sk-container-id-1 input.sk-toggleable__control:checked~div.sk-toggleable__content {max-height: 200px;max-width: 100%;overflow: auto;}#sk-container-id-1 input.sk-toggleable__control:checked~label.sk-toggleable__label-arrow:before {content: \"▾\";}#sk-container-id-1 div.sk-estimator input.sk-toggleable__control:checked~label.sk-toggleable__label {background-color: #d4ebff;}#sk-container-id-1 div.sk-label input.sk-toggleable__control:checked~label.sk-toggleable__label {background-color: #d4ebff;}#sk-container-id-1 input.sk-hidden--visually {border: 0;clip: rect(1px 1px 1px 1px);clip: rect(1px, 1px, 1px, 1px);height: 1px;margin: -1px;overflow: hidden;padding: 0;position: absolute;width: 1px;}#sk-container-id-1 div.sk-estimator {font-family: monospace;background-color: #f0f8ff;border: 1px dotted black;border-radius: 0.25em;box-sizing: border-box;margin-bottom: 0.5em;}#sk-container-id-1 div.sk-estimator:hover {background-color: #d4ebff;}#sk-container-id-1 div.sk-parallel-item::after {content: \"\";width: 100%;border-bottom: 1px solid gray;flex-grow: 1;}#sk-container-id-1 div.sk-label:hover label.sk-toggleable__label {background-color: #d4ebff;}#sk-container-id-1 div.sk-serial::before {content: \"\";position: absolute;border-left: 1px solid gray;box-sizing: border-box;top: 0;bottom: 0;left: 50%;z-index: 0;}#sk-container-id-1 div.sk-serial {display: flex;flex-direction: column;align-items: center;background-color: white;padding-right: 0.2em;padding-left: 0.2em;position: relative;}#sk-container-id-1 div.sk-item {position: relative;z-index: 1;}#sk-container-id-1 div.sk-parallel {display: flex;align-items: stretch;justify-content: center;background-color: white;position: relative;}#sk-container-id-1 div.sk-item::before, #sk-container-id-1 div.sk-parallel-item::before {content: \"\";position: absolute;border-left: 1px solid gray;box-sizing: border-box;top: 0;bottom: 0;left: 50%;z-index: -1;}#sk-container-id-1 div.sk-parallel-item {display: flex;flex-direction: column;z-index: 1;position: relative;background-color: white;}#sk-container-id-1 div.sk-parallel-item:first-child::after {align-self: flex-end;width: 50%;}#sk-container-id-1 div.sk-parallel-item:last-child::after {align-self: flex-start;width: 50%;}#sk-container-id-1 div.sk-parallel-item:only-child::after {width: 0;}#sk-container-id-1 div.sk-dashed-wrapped {border: 1px dashed gray;margin: 0 0.4em 0.5em 0.4em;box-sizing: border-box;padding-bottom: 0.4em;background-color: white;}#sk-container-id-1 div.sk-label label {font-family: monospace;font-weight: bold;display: inline-block;line-height: 1.2em;}#sk-container-id-1 div.sk-label-container {text-align: center;}#sk-container-id-1 div.sk-container {/* jupyter's `normalize.less` sets `[hidden] { display: none; }` but bootstrap.min.css set `[hidden] { display: none !important; }` so we also need the `!important` here to be able to override the default hidden behavior on the sphinx rendered scikit-learn.org. See: https://github.com/scikit-learn/scikit-learn/issues/21755 */display: inline-block !important;position: relative;}#sk-container-id-1 div.sk-text-repr-fallback {display: none;}</style><div id=\"sk-container-id-1\" class=\"sk-top-container\"><div class=\"sk-text-repr-fallback\"><pre>RandomForestClassifier(n_estimators=200, random_state=42)</pre><b>In a Jupyter environment, please rerun this cell to show the HTML representation or trust the notebook. <br />On GitHub, the HTML representation is unable to render, please try loading this page with nbviewer.org.</b></div><div class=\"sk-container\" hidden><div class=\"sk-item\"><div class=\"sk-estimator sk-toggleable\"><input class=\"sk-toggleable__control sk-hidden--visually\" id=\"sk-estimator-id-1\" type=\"checkbox\" checked><label for=\"sk-estimator-id-1\" class=\"sk-toggleable__label sk-toggleable__label-arrow\">RandomForestClassifier</label><div class=\"sk-toggleable__content\"><pre>RandomForestClassifier(n_estimators=200, random_state=42)</pre></div></div></div></div></div>"
      ],
      "text/plain": [
       "RandomForestClassifier(n_estimators=200, random_state=42)"
      ]
     },
     "execution_count": 7,
     "metadata": {},
     "output_type": "execute_result"
    }
   ],
   "source": [
    "x_new,y_new ,s_new = resampling_gender(X,Y,S)\n",
    "\n",
    "\n",
    "max_label = y_new.value_counts().idxmax()\n",
    "\n",
    "y_big_classes = np.where(y_new == max_label,'bigclass', 'smallclass')\n",
    "print(y_big_classes)\n",
    "\n",
    "X_train, X_test, y_big_train, y_big_test, y_new_train, y_new_test,S_train,S_test = train_test_split(\n",
    "    x_new, y_big_classes, y_new,s_new, test_size=0.2, random_state=42\n",
    ")\n",
    "\n",
    "X_train_new = pd.concat([X_train,S_train],axis=1)\n",
    "X_train_new.columns = X_train_new.columns.astype(str)\n",
    "\n",
    "\n",
    "\n",
    "clf_big = RandomForestClassifier(random_state=42,n_estimators=200)\n",
    "clf_big.fit(X_train_new, y_big_train)"
   ]
  },
  {
   "cell_type": "code",
   "execution_count": 8,
   "metadata": {},
   "outputs": [
    {
     "data": {
      "text/html": [
       "<style>#sk-container-id-2 {color: black;}#sk-container-id-2 pre{padding: 0;}#sk-container-id-2 div.sk-toggleable {background-color: white;}#sk-container-id-2 label.sk-toggleable__label {cursor: pointer;display: block;width: 100%;margin-bottom: 0;padding: 0.3em;box-sizing: border-box;text-align: center;}#sk-container-id-2 label.sk-toggleable__label-arrow:before {content: \"▸\";float: left;margin-right: 0.25em;color: #696969;}#sk-container-id-2 label.sk-toggleable__label-arrow:hover:before {color: black;}#sk-container-id-2 div.sk-estimator:hover label.sk-toggleable__label-arrow:before {color: black;}#sk-container-id-2 div.sk-toggleable__content {max-height: 0;max-width: 0;overflow: hidden;text-align: left;background-color: #f0f8ff;}#sk-container-id-2 div.sk-toggleable__content pre {margin: 0.2em;color: black;border-radius: 0.25em;background-color: #f0f8ff;}#sk-container-id-2 input.sk-toggleable__control:checked~div.sk-toggleable__content {max-height: 200px;max-width: 100%;overflow: auto;}#sk-container-id-2 input.sk-toggleable__control:checked~label.sk-toggleable__label-arrow:before {content: \"▾\";}#sk-container-id-2 div.sk-estimator input.sk-toggleable__control:checked~label.sk-toggleable__label {background-color: #d4ebff;}#sk-container-id-2 div.sk-label input.sk-toggleable__control:checked~label.sk-toggleable__label {background-color: #d4ebff;}#sk-container-id-2 input.sk-hidden--visually {border: 0;clip: rect(1px 1px 1px 1px);clip: rect(1px, 1px, 1px, 1px);height: 1px;margin: -1px;overflow: hidden;padding: 0;position: absolute;width: 1px;}#sk-container-id-2 div.sk-estimator {font-family: monospace;background-color: #f0f8ff;border: 1px dotted black;border-radius: 0.25em;box-sizing: border-box;margin-bottom: 0.5em;}#sk-container-id-2 div.sk-estimator:hover {background-color: #d4ebff;}#sk-container-id-2 div.sk-parallel-item::after {content: \"\";width: 100%;border-bottom: 1px solid gray;flex-grow: 1;}#sk-container-id-2 div.sk-label:hover label.sk-toggleable__label {background-color: #d4ebff;}#sk-container-id-2 div.sk-serial::before {content: \"\";position: absolute;border-left: 1px solid gray;box-sizing: border-box;top: 0;bottom: 0;left: 50%;z-index: 0;}#sk-container-id-2 div.sk-serial {display: flex;flex-direction: column;align-items: center;background-color: white;padding-right: 0.2em;padding-left: 0.2em;position: relative;}#sk-container-id-2 div.sk-item {position: relative;z-index: 1;}#sk-container-id-2 div.sk-parallel {display: flex;align-items: stretch;justify-content: center;background-color: white;position: relative;}#sk-container-id-2 div.sk-item::before, #sk-container-id-2 div.sk-parallel-item::before {content: \"\";position: absolute;border-left: 1px solid gray;box-sizing: border-box;top: 0;bottom: 0;left: 50%;z-index: -1;}#sk-container-id-2 div.sk-parallel-item {display: flex;flex-direction: column;z-index: 1;position: relative;background-color: white;}#sk-container-id-2 div.sk-parallel-item:first-child::after {align-self: flex-end;width: 50%;}#sk-container-id-2 div.sk-parallel-item:last-child::after {align-self: flex-start;width: 50%;}#sk-container-id-2 div.sk-parallel-item:only-child::after {width: 0;}#sk-container-id-2 div.sk-dashed-wrapped {border: 1px dashed gray;margin: 0 0.4em 0.5em 0.4em;box-sizing: border-box;padding-bottom: 0.4em;background-color: white;}#sk-container-id-2 div.sk-label label {font-family: monospace;font-weight: bold;display: inline-block;line-height: 1.2em;}#sk-container-id-2 div.sk-label-container {text-align: center;}#sk-container-id-2 div.sk-container {/* jupyter's `normalize.less` sets `[hidden] { display: none; }` but bootstrap.min.css set `[hidden] { display: none !important; }` so we also need the `!important` here to be able to override the default hidden behavior on the sphinx rendered scikit-learn.org. See: https://github.com/scikit-learn/scikit-learn/issues/21755 */display: inline-block !important;position: relative;}#sk-container-id-2 div.sk-text-repr-fallback {display: none;}</style><div id=\"sk-container-id-2\" class=\"sk-top-container\"><div class=\"sk-text-repr-fallback\"><pre>LogisticRegression(C=0.3, max_iter=50000, random_state=42, solver=&#x27;newton-cg&#x27;)</pre><b>In a Jupyter environment, please rerun this cell to show the HTML representation or trust the notebook. <br />On GitHub, the HTML representation is unable to render, please try loading this page with nbviewer.org.</b></div><div class=\"sk-container\" hidden><div class=\"sk-item\"><div class=\"sk-estimator sk-toggleable\"><input class=\"sk-toggleable__control sk-hidden--visually\" id=\"sk-estimator-id-2\" type=\"checkbox\" checked><label for=\"sk-estimator-id-2\" class=\"sk-toggleable__label sk-toggleable__label-arrow\">LogisticRegression</label><div class=\"sk-toggleable__content\"><pre>LogisticRegression(C=0.3, max_iter=50000, random_state=42, solver=&#x27;newton-cg&#x27;)</pre></div></div></div></div></div>"
      ],
      "text/plain": [
       "LogisticRegression(C=0.3, max_iter=50000, random_state=42, solver='newton-cg')"
      ]
     },
     "execution_count": 8,
     "metadata": {},
     "output_type": "execute_result"
    }
   ],
   "source": [
    "from sklearn.linear_model import LogisticRegression\n",
    "\n",
    "is_other_classes = y_big_train == 'smallclass'\n",
    "X_train_other = X_train_new[is_other_classes]\n",
    "Y_train_other = y_new_train[is_other_classes]\n",
    "# S_train_other = S_train[is_other_classes]\n",
    "# X_train_new = pd.concat([X_train_other,S_train_other],axis=1)\n",
    "# X_train_new.columns = X_train_new.columns.astype(str)\n",
    "\n",
    "\n",
    "\n",
    "clf_other = LogisticRegression(random_state=42,solver='newton-cg', C=0.3, tol=1e-4,  max_iter=50000)\n",
    "clf_other.fit(X_train_other, Y_train_other)\n",
    "\n"
   ]
  },
  {
   "cell_type": "code",
   "execution_count": 11,
   "metadata": {},
   "outputs": [
    {
     "name": "stdout",
     "output_type": "stream",
     "text": [
      "0.8531966248166197\n"
     ]
    }
   ],
   "source": [
    "X_test_new = pd.concat([X_test,S_test],axis=1)\n",
    "X_test_new.columns = X_test_new.columns.astype(str)\n",
    "y_big_pred = clf_big.predict(X_test_new)\n",
    "final_predictions = np.empty_like(y_big_pred, dtype=object)\n",
    "final_predictions[y_big_pred == 'bigclass'] = max_label\n",
    "smallclass_indices = (y_big_pred == 'smallclass')\n",
    "X_test_smallclass = X_test_new[smallclass_indices]\n",
    "# S_test_smallclass = S_test[smallclass_indices]\n",
    "\n",
    "# X_test_new = pd.concat([X_test_smallclass,S_test_smallclass],axis=1)\n",
    "# X_test_new.columns = X_test_new.columns.astype(str)\n",
    "\n",
    "if X_test_smallclass.size > 0: \n",
    "    y_small_pred = clf_other.predict(X_test_smallclass)\n",
    "    final_predictions[smallclass_indices] = y_small_pred\n",
    "    \n",
    "final_predictions = final_predictions.astype(int)\n",
    "\n",
    "eval_scores, confusion_matrices_eval = gap_eval_scores(final_predictions, y_new_test, S_test, metrics=['TPR'])\n",
    "final_score = (eval_scores['macro_fscore']+ (1-eval_scores['TPR_GAP']))/2\n",
    "print(final_score)"
   ]
  },
  {
   "cell_type": "markdown",
   "metadata": {},
   "source": [
    "<div class='alert alert-block alert-info'>Commentaire:\n",
    "\n",
    "En raison du manque de temps, je n'ai pas pu approfondir mes recherches sur ce modèle, qui a atteint un score de 0.77. Si j'avais eu plus de temps, j'aurais pu explorer davantage ce modèle.\n",
    "\n",
    "</div>"
   ]
  },
  {
   "cell_type": "markdown",
   "metadata": {},
   "source": [
    "## IV. Conclusion"
   ]
  },
  {
   "cell_type": "markdown",
   "metadata": {},
   "source": [
    "Suite à ce data challenge, le modèle final obtenu est LogisticRegression avec les paramètres (solver='newton-cg', C=0.062, tol=1e-5, max_iter=7000), qui a donné les meilleurs résultats, pouvant atteindre 0.7879. Cependant, il reste encore des problèmes à améliorer : \n",
    "- 1. Les données d'entraînement utilisées sont l'ensemble des données, ce qui entraîne un surajustement, c'est-à-dire que les résultats sur l'ensemble de test sont meilleurs que les résultats finaux, nécessitant un traitement supplémentaire des données.\n",
    "- 2. Les paramètres du modèle pourraient ne pas être optimaux, nécessitant la recherche d'une méthode plus économique pour trouver les meilleurs paramètres. Peut-être que l'optimisation bayésienne pourrait résoudre ce problème, mais par manque de temps, je n'ai pas pu approfondir cette voie."
   ]
  }
 ],
 "metadata": {
  "kernelspec": {
   "display_name": "tf",
   "language": "python",
   "name": "python3"
  },
  "language_info": {
   "codemirror_mode": {
    "name": "ipython",
    "version": 3
   },
   "file_extension": ".py",
   "mimetype": "text/x-python",
   "name": "python",
   "nbconvert_exporter": "python",
   "pygments_lexer": "ipython3",
   "version": "3.10.13"
  }
 },
 "nbformat": 4,
 "nbformat_minor": 2
}
